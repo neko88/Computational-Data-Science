{
 "cells": [
  {
   "cell_type": "markdown",
   "id": "d1592cf4",
   "metadata": {},
   "source": [
    "- Create a summary.txt file for the data-*.csv, and give:\n",
    "    - mean, sd, range(min,max) of both the x and y values\n",
    "    - correlation coefficient (r) between the x and y variables\n",
    "    - one sentence description: describe set to someone and say what you think someone needs     to know about it."
   ]
  },
  {
   "cell_type": "code",
   "execution_count": 78,
   "id": "f753362e",
   "metadata": {},
   "outputs": [],
   "source": [
    "import pandas as pd\n",
    "import numpy as np\n",
    "import matplotlib.pyplot as plt"
   ]
  },
  {
   "cell_type": "code",
   "execution_count": 79,
   "id": "48deb582",
   "metadata": {},
   "outputs": [],
   "source": [
    "# Load the datasets\n",
    "d1 = pd.read_csv(\"data-1.csv\")\n",
    "d2 = pd.read_csv(\"data-2.csv\")\n",
    "d3 = pd.read_csv(\"data-3.csv\")\n",
    "d4 = pd.read_csv(\"data-4.csv\")\n",
    "d5 = pd.read_csv(\"data-5.csv\")\n",
    "d6 = pd.read_csv(\"data-6.csv\")"
   ]
  },
  {
   "cell_type": "code",
   "execution_count": 80,
   "id": "6350a6f1",
   "metadata": {
    "scrolled": true
   },
   "outputs": [
    {
     "data": {
      "text/html": [
       "<div>\n",
       "<style scoped>\n",
       "    .dataframe tbody tr th:only-of-type {\n",
       "        vertical-align: middle;\n",
       "    }\n",
       "\n",
       "    .dataframe tbody tr th {\n",
       "        vertical-align: top;\n",
       "    }\n",
       "\n",
       "    .dataframe thead th {\n",
       "        text-align: right;\n",
       "    }\n",
       "</style>\n",
       "<table border=\"1\" class=\"dataframe\">\n",
       "  <thead>\n",
       "    <tr style=\"text-align: right;\">\n",
       "      <th></th>\n",
       "      <th>x</th>\n",
       "      <th>y</th>\n",
       "    </tr>\n",
       "  </thead>\n",
       "  <tbody>\n",
       "    <tr>\n",
       "      <th>0</th>\n",
       "      <td>29.168628</td>\n",
       "      <td>26.350615</td>\n",
       "    </tr>\n",
       "    <tr>\n",
       "      <th>1</th>\n",
       "      <td>12.801887</td>\n",
       "      <td>11.705425</td>\n",
       "    </tr>\n",
       "    <tr>\n",
       "      <th>2</th>\n",
       "      <td>19.744856</td>\n",
       "      <td>15.331458</td>\n",
       "    </tr>\n",
       "    <tr>\n",
       "      <th>3</th>\n",
       "      <td>34.890718</td>\n",
       "      <td>27.384153</td>\n",
       "    </tr>\n",
       "    <tr>\n",
       "      <th>4</th>\n",
       "      <td>30.410696</td>\n",
       "      <td>20.859101</td>\n",
       "    </tr>\n",
       "  </tbody>\n",
       "</table>\n",
       "</div>"
      ],
      "text/plain": [
       "           x          y\n",
       "0  29.168628  26.350615\n",
       "1  12.801887  11.705425\n",
       "2  19.744856  15.331458\n",
       "3  34.890718  27.384153\n",
       "4  30.410696  20.859101"
      ]
     },
     "execution_count": 80,
     "metadata": {},
     "output_type": "execute_result"
    }
   ],
   "source": [
    "d1.head()"
   ]
  },
  {
   "cell_type": "code",
   "execution_count": 81,
   "id": "713d3a77",
   "metadata": {},
   "outputs": [],
   "source": [
    "def get_stats(dataset, x_col, y_col):\n",
    "    results = pd.DataFrame(columns=['mean', 'std', 'min','max','r'],\n",
    "                 index=[x_col, y_col])\n",
    "    results.loc[x_col]['mean'] = dataset[x_col].mean()\n",
    "    results.loc[y_col]['mean'] = dataset[y_col].mean()\n",
    "    \n",
    "    results.loc[x_col]['std'] = dataset[x_col].std()\n",
    "    results.loc[y_col]['std'] = dataset[y_col].std()\n",
    "    \n",
    "    results.loc[x_col]['min'] = dataset[x_col].min()\n",
    "    results.loc[y_col]['min'] = dataset[y_col].min()\n",
    "    \n",
    "    results.loc[x_col]['max'] = dataset[x_col].max()\n",
    "    results.loc[y_col]['max'] = dataset[y_col].max()   \n",
    "    \n",
    "    results.loc[x_col]['r'] = dataset[x_col].corr(dataset[y_col])\n",
    "    results.loc[y_col]['r'] = dataset[y_col].corr(dataset[x_col])\n",
    "    \n",
    "    print(results)\n",
    "    \n",
    "    return results"
   ]
  },
  {
   "cell_type": "code",
   "execution_count": 82,
   "id": "b4d874bf",
   "metadata": {},
   "outputs": [
    {
     "name": "stdout",
     "output_type": "stream",
     "text": [
      "\n",
      " Dataset 1:\n",
      "        mean        std        min        max         r\n",
      "x   8.717696  12.155517 -22.635878  35.237055  0.950326\n",
      "y  12.522874   6.639964  -2.565088  27.384153  0.950326\n",
      "\n",
      " Dataset 2:\n",
      "       mean        std        min        max         r\n",
      "x -0.710787  11.481584 -33.271113     27.647  0.955153\n",
      "y -0.748987   6.257918 -18.621804  14.147315  0.955153\n",
      "\n",
      " Dataset 3:\n",
      "       mean       std       min        max         r\n",
      "x  0.968907  2.235558 -2.449064   4.518885  0.981937\n",
      "y  8.508535  1.149301  6.641734  10.551871  0.981937\n",
      "\n",
      " Dataset 4:\n",
      "        mean        std  min       max         r\n",
      "x  49.905086  28.508611  0.0   87.3767 -0.081193\n",
      "y  18.553837  16.545896  0.0  44.56504 -0.081193\n",
      "\n",
      " Dataset 5:\n",
      "        mean        std       min        max         r\n",
      "x  49.909994  28.500001  4.337892  91.052863 -0.088236\n",
      "y  18.555525  16.540796  0.055498  49.934197 -0.088236\n",
      "\n",
      " Dataset 6:\n",
      "       mean        std        min        max         r\n",
      "x  7.216155  11.921599 -24.333821  35.402139  0.935069\n",
      "y  7.602215  11.764382 -22.956357  36.079874  0.935069\n"
     ]
    }
   ],
   "source": [
    "print(\"\\n Dataset 1:\")\n",
    "dataset1 = get_stats(d1, 'x', 'y')\n",
    "print(\"\\n Dataset 2:\")\n",
    "dataset2 = get_stats(d2, 'x', 'y')\n",
    "print(\"\\n Dataset 3:\")\n",
    "dataset3 = get_stats(d3, 'x', 'y')\n",
    "print(\"\\n Dataset 4:\")\n",
    "dataset4 = get_stats(d4, 'x', 'y')\n",
    "print(\"\\n Dataset 5:\")\n",
    "dataset5 = get_stats(d5, 'x', 'y')\n",
    "print(\"\\n Dataset 6:\")\n",
    "dataset6 = get_stats(d6, 'x', 'y')"
   ]
  }
 ],
 "metadata": {
  "kernelspec": {
   "display_name": "Python 3 (ipykernel)",
   "language": "python",
   "name": "python3"
  },
  "language_info": {
   "codemirror_mode": {
    "name": "ipython",
    "version": 3
   },
   "file_extension": ".py",
   "mimetype": "text/x-python",
   "name": "python",
   "nbconvert_exporter": "python",
   "pygments_lexer": "ipython3",
   "version": "3.10.9"
  }
 },
 "nbformat": 4,
 "nbformat_minor": 5
}