{
 "cells": [
  {
   "cell_type": "markdown",
   "id": "ebfe3a15",
   "metadata": {},
   "source": [
    "- Create a summary.txt file for the data-*.csv, and give:\n",
    "    - mean, sd, range(min,max) of both the x and y values\n",
    "    - correlation coefficient (r) between the x and y variables\n",
    "    - one sentence description: describe set to someone and say what you think someone needs     to know about it."
   ]
  },
  {
   "cell_type": "code",
   "execution_count": 2,
   "id": "2915e8e6",
   "metadata": {},
   "outputs": [],
   "source": [
    "import pandas as pd\n",
    "import numpy as np\n",
    "import matplotlib.pyplot as plt"
   ]
  },
  {
   "cell_type": "code",
   "execution_count": 53,
   "id": "5581a2c8",
   "metadata": {},
   "outputs": [],
   "source": [
    "# Load the datasets\n",
    "d1 = pd.read_csv(\"data-1.csv\")\n",
    "d2 = pd.read_csv(\"data-2.csv\")\n",
    "d3 = pd.read_csv(\"data-3.csv\")\n",
    "d4 = pd.read_csv(\"data-4.csv\")\n",
    "d5 = pd.read_csv(\"data-5.csv\")\n",
    "d6 = pd.read_csv(\"data-6.csv\")"
   ]
  },
  {
   "cell_type": "code",
   "execution_count": 54,
   "id": "e8707afa",
   "metadata": {
    "scrolled": true
   },
   "outputs": [
    {
     "data": {
      "text/html": [
       "<div>\n",
       "<style scoped>\n",
       "    .dataframe tbody tr th:only-of-type {\n",
       "        vertical-align: middle;\n",
       "    }\n",
       "\n",
       "    .dataframe tbody tr th {\n",
       "        vertical-align: top;\n",
       "    }\n",
       "\n",
       "    .dataframe thead th {\n",
       "        text-align: right;\n",
       "    }\n",
       "</style>\n",
       "<table border=\"1\" class=\"dataframe\">\n",
       "  <thead>\n",
       "    <tr style=\"text-align: right;\">\n",
       "      <th></th>\n",
       "      <th>x</th>\n",
       "      <th>y</th>\n",
       "    </tr>\n",
       "  </thead>\n",
       "  <tbody>\n",
       "    <tr>\n",
       "      <th>0</th>\n",
       "      <td>29.168628</td>\n",
       "      <td>26.350615</td>\n",
       "    </tr>\n",
       "    <tr>\n",
       "      <th>1</th>\n",
       "      <td>12.801887</td>\n",
       "      <td>11.705425</td>\n",
       "    </tr>\n",
       "    <tr>\n",
       "      <th>2</th>\n",
       "      <td>19.744856</td>\n",
       "      <td>15.331458</td>\n",
       "    </tr>\n",
       "    <tr>\n",
       "      <th>3</th>\n",
       "      <td>34.890718</td>\n",
       "      <td>27.384153</td>\n",
       "    </tr>\n",
       "    <tr>\n",
       "      <th>4</th>\n",
       "      <td>30.410696</td>\n",
       "      <td>20.859101</td>\n",
       "    </tr>\n",
       "  </tbody>\n",
       "</table>\n",
       "</div>"
      ],
      "text/plain": [
       "           x          y\n",
       "0  29.168628  26.350615\n",
       "1  12.801887  11.705425\n",
       "2  19.744856  15.331458\n",
       "3  34.890718  27.384153\n",
       "4  30.410696  20.859101"
      ]
     },
     "execution_count": 54,
     "metadata": {},
     "output_type": "execute_result"
    }
   ],
   "source": [
    "d1.head()"
   ]
  },
  {
   "cell_type": "code",
   "execution_count": 55,
   "id": "6146fa3e",
   "metadata": {},
   "outputs": [
    {
     "data": {
      "text/html": [
       "<div>\n",
       "<style scoped>\n",
       "    .dataframe tbody tr th:only-of-type {\n",
       "        vertical-align: middle;\n",
       "    }\n",
       "\n",
       "    .dataframe tbody tr th {\n",
       "        vertical-align: top;\n",
       "    }\n",
       "\n",
       "    .dataframe thead th {\n",
       "        text-align: right;\n",
       "    }\n",
       "</style>\n",
       "<table border=\"1\" class=\"dataframe\">\n",
       "  <thead>\n",
       "    <tr style=\"text-align: right;\">\n",
       "      <th></th>\n",
       "      <th>Mean</th>\n",
       "      <th>Standard Deviation</th>\n",
       "      <th>Min.</th>\n",
       "      <th>Max.</th>\n",
       "      <th>Correlation Coefficient</th>\n",
       "    </tr>\n",
       "  </thead>\n",
       "  <tbody>\n",
       "    <tr>\n",
       "      <th>x</th>\n",
       "      <td>NaN</td>\n",
       "      <td>NaN</td>\n",
       "      <td>NaN</td>\n",
       "      <td>NaN</td>\n",
       "      <td>NaN</td>\n",
       "    </tr>\n",
       "    <tr>\n",
       "      <th>y</th>\n",
       "      <td>NaN</td>\n",
       "      <td>NaN</td>\n",
       "      <td>NaN</td>\n",
       "      <td>NaN</td>\n",
       "      <td>NaN</td>\n",
       "    </tr>\n",
       "  </tbody>\n",
       "</table>\n",
       "</div>"
      ],
      "text/plain": [
       "  Mean Standard Deviation Min. Max. Correlation Coefficient\n",
       "x  NaN                NaN  NaN  NaN                     NaN\n",
       "y  NaN                NaN  NaN  NaN                     NaN"
      ]
     },
     "execution_count": 55,
     "metadata": {},
     "output_type": "execute_result"
    }
   ],
   "source": [
    "df = pd.DataFrame(columns=['Mean', 'Standard Deviation', 'Min.','Max.','Correlation Coefficient'],\n",
    "                 index=['x','y'])\n",
    "df"
   ]
  },
  {
   "cell_type": "code",
   "execution_count": 63,
   "id": "3be3cd5c",
   "metadata": {},
   "outputs": [],
   "source": [
    "def get_stats(dataset, x_col, y_col):\n",
    "    results = pd.DataFrame(columns=['Mean', 'Standard Deviation', 'Min','Max','r'],\n",
    "                 index=[x_col, y_col])\n",
    "    results.loc[x_col]['Mean'] = dataset[x_col].mean()\n",
    "    results.loc[y_col]['Mean'] = dataset[y_col].mean()\n",
    "    \n",
    "    results.loc[x_col]['Standard Deviation'] = dataset[x_col].std()\n",
    "    results.loc[y_col]['Standard Deviation'] = dataset[y_col].std()\n",
    "    \n",
    "    results.loc[x_col]['Min'] = dataset[x_col].min()\n",
    "    results.loc[y_col]['Min'] = dataset[y_col].min()\n",
    "    \n",
    "    results.loc[x_col]['Max'] = dataset[x_col].max()\n",
    "    results.loc[y_col]['Max'] = dataset[y_col].max()   \n",
    "    \n",
    "    results.loc[x_col]['r'] = dataset[x_col].corr(dataset[y_col])\n",
    "    results.loc[y_col]['r'] = dataset[y_col].corr(dataset[x_col])\n",
    "    \n",
    "    return results"
   ]
  },
  {
   "cell_type": "code",
   "execution_count": 64,
   "id": "3e8647e1",
   "metadata": {},
   "outputs": [
    {
     "data": {
      "text/html": [
       "<div>\n",
       "<style scoped>\n",
       "    .dataframe tbody tr th:only-of-type {\n",
       "        vertical-align: middle;\n",
       "    }\n",
       "\n",
       "    .dataframe tbody tr th {\n",
       "        vertical-align: top;\n",
       "    }\n",
       "\n",
       "    .dataframe thead th {\n",
       "        text-align: right;\n",
       "    }\n",
       "</style>\n",
       "<table border=\"1\" class=\"dataframe\">\n",
       "  <thead>\n",
       "    <tr style=\"text-align: right;\">\n",
       "      <th></th>\n",
       "      <th>Mean</th>\n",
       "      <th>Standard Deviation</th>\n",
       "      <th>Min</th>\n",
       "      <th>Max</th>\n",
       "      <th>r</th>\n",
       "    </tr>\n",
       "  </thead>\n",
       "  <tbody>\n",
       "    <tr>\n",
       "      <th>x</th>\n",
       "      <td>8.717696</td>\n",
       "      <td>12.155517</td>\n",
       "      <td>-22.635878</td>\n",
       "      <td>35.237055</td>\n",
       "      <td>0.950326</td>\n",
       "    </tr>\n",
       "    <tr>\n",
       "      <th>y</th>\n",
       "      <td>12.522874</td>\n",
       "      <td>6.639964</td>\n",
       "      <td>-2.565088</td>\n",
       "      <td>27.384153</td>\n",
       "      <td>0.950326</td>\n",
       "    </tr>\n",
       "  </tbody>\n",
       "</table>\n",
       "</div>"
      ],
      "text/plain": [
       "        Mean Standard Deviation        Min        Max         r\n",
       "x   8.717696          12.155517 -22.635878  35.237055  0.950326\n",
       "y  12.522874           6.639964  -2.565088  27.384153  0.950326"
      ]
     },
     "execution_count": 64,
     "metadata": {},
     "output_type": "execute_result"
    }
   ],
   "source": [
    "dataset1 = get_stats(d1, 'x', 'y')\n",
    "dataset2 = get_stats(d2, 'x', 'y')"
   ]
  },
  {
   "cell_type": "code",
   "execution_count": 48,
   "id": "f220265c",
   "metadata": {},
   "outputs": [
    {
     "data": {
      "text/plain": [
       "8.71769618641382"
      ]
     },
     "execution_count": 48,
     "metadata": {},
     "output_type": "execute_result"
    }
   ],
   "source": []
  },
  {
   "cell_type": "code",
   "execution_count": null,
   "id": "44941e51",
   "metadata": {},
   "outputs": [],
   "source": []
  }
 ],
 "metadata": {
  "kernelspec": {
   "display_name": "Python 3 (ipykernel)",
   "language": "python",
   "name": "python3"
  },
  "language_info": {
   "codemirror_mode": {
    "name": "ipython",
    "version": 3
   },
   "file_extension": ".py",
   "mimetype": "text/x-python",
   "name": "python",
   "nbconvert_exporter": "python",
   "pygments_lexer": "ipython3",
   "version": "3.10.9"
  }
 },
 "nbformat": 4,
 "nbformat_minor": 5
}
